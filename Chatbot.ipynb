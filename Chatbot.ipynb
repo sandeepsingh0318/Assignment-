{
 "cells": [
  {
   "cell_type": "code",
   "execution_count": null,
   "id": "077ec618",
   "metadata": {},
   "outputs": [],
   "source": [
    "#Develop a simple chatbot using natural language processing libraries. The chatbot should be able to answer basic questions and engage in a conversation.\n",
    "pip install nltk\n",
    "import nltk\n",
    "from nltk.chat.util import Chat, reflections\n",
    "\n",
    "# Define some patterns and responses\n",
    "patterns = [\n",
    "    (r'hi|hello|hey', ['Hello!', 'Hi there!', 'Hey!']),\n",
    "    (r'how are you?', ['I am doing well, thank you!', 'I\\'m fine, thanks for asking.']),\n",
    "    (r'what is your name?', ['I am a chatbot.', 'You can call me Chatbot.']),\n",
    "    (r'(.*) your name?', ['My name is Chatbot.']),\n",
    "    (r'bye|goodbye', ['Goodbye!', 'Bye!', 'See you later!']),\n",
    "]\n",
    "\n",
    "# Create a Chat instance\n",
    "chatbot = Chat(patterns, reflections)\n",
    "\n",
    "def main():\n",
    "    print(\"Welcome! Ask me anything or just say hi.\")\n",
    "\n",
    "    while True:\n",
    "        user_input = input(\"You: \")\n",
    "        response = chatbot.respond(user_input)\n",
    "        print(\"Chatbot:\", response)\n",
    "\n",
    "        if user_input.lower() == 'exit':\n",
    "            print(\"Goodbye!\")\n",
    "            break\n",
    "\n",
    "if __name__ == \"__main__\":\n",
    "    main()\n"
   ]
  }
 ],
 "metadata": {
  "kernelspec": {
   "display_name": "Python 3 (ipykernel)",
   "language": "python",
   "name": "python3"
  },
  "language_info": {
   "codemirror_mode": {
    "name": "ipython",
    "version": 3
   },
   "file_extension": ".py",
   "mimetype": "text/x-python",
   "name": "python",
   "nbconvert_exporter": "python",
   "pygments_lexer": "ipython3",
   "version": "3.9.13"
  }
 },
 "nbformat": 4,
 "nbformat_minor": 5
}
