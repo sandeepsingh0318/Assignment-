{
 "cells": [
  {
   "cell_type": "code",
   "execution_count": null,
   "id": "481875f4",
   "metadata": {},
   "outputs": [],
   "source": [
    "#Develop a Python program that retrieves weather information using an API and displays it to the user. Allow users to input a city and get the current weather conditions.\n",
    "pip install requests\n",
    "import requests\n",
    "\n",
    "def get_weather(api_key, city):\n",
    "    url = f\"http://api.openweathermap.org/data/2.5/weather?q={city}&appid={api_key}&units=metric\"\n",
    "    response = requests.get(url)\n",
    "    if response.status_code == 200:\n",
    "        data = response.json()\n",
    "        weather_description = data['weather'][0]['description']\n",
    "        temperature = data['main']['temp']\n",
    "        feels_like = data['main']['feels_like']\n",
    "        humidity = data['main']['humidity']\n",
    "        wind_speed = data['wind']['speed']\n",
    "        print(f\"Weather in {city}:\")\n",
    "        print(f\"Description: {weather_description}\")\n",
    "        print(f\"Temperature: {temperature}°C\")\n",
    "        print(f\"Feels like: {feels_like}°C\")\n",
    "        print(f\"Humidity: {humidity}%\")\n",
    "        print(f\"Wind Speed: {wind_speed} m/s\")\n",
    "    else:\n",
    "        print(\"Error fetching weather data. Please try again later.\")\n",
    "\n",
    "def main():\n",
    "    api_key = \"YOUR_API_KEY_HERE\"  # Replace this with your actual OpenWeatherMap API key\n",
    "    city = input(\"Enter the city name: \")\n",
    "    get_weather(api_key, city)\n",
    "\n",
    "if __name__ == \"__main__\":\n",
    "    main()\n"
   ]
  }
 ],
 "metadata": {
  "kernelspec": {
   "display_name": "Python 3 (ipykernel)",
   "language": "python",
   "name": "python3"
  },
  "language_info": {
   "codemirror_mode": {
    "name": "ipython",
    "version": 3
   },
   "file_extension": ".py",
   "mimetype": "text/x-python",
   "name": "python",
   "nbconvert_exporter": "python",
   "pygments_lexer": "ipython3",
   "version": "3.9.13"
  }
 },
 "nbformat": 4,
 "nbformat_minor": 5
}
